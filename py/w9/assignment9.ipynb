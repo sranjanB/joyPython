{
 "cells": [
  {
   "cell_type": "markdown",
   "id": "0e50aba1-4022-46a5-8a37-598ba7b972f3",
   "metadata": {},
   "source": [
    "How can we identify which book is written by which author?\n",
    "1. By matching handwritting\n",
    "2. "
   ]
  }
 ],
 "metadata": {
  "kernelspec": {
   "display_name": "Python 3 (ipykernel)",
   "language": "python",
   "name": "python3"
  },
  "language_info": {
   "codemirror_mode": {
    "name": "ipython",
    "version": 3
   },
   "file_extension": ".py",
   "mimetype": "text/x-python",
   "name": "python",
   "nbconvert_exporter": "python",
   "pygments_lexer": "ipython3",
   "version": "3.10.12"
  }
 },
 "nbformat": 4,
 "nbformat_minor": 5
}
